{
 "cells": [
  {
   "cell_type": "code",
   "execution_count": 1,
   "id": "660e79cb",
   "metadata": {},
   "outputs": [],
   "source": [
    "test = [[0, 1, 2, 0, 2], [2, 2, 0, 1, 1]]"
   ]
  },
  {
   "cell_type": "code",
   "execution_count": null,
   "id": "3a24b8be",
   "metadata": {},
   "outputs": [],
   "source": [
    "test = [item for sublist in test for item in sublist]"
   ]
  },
  {
   "cell_type": "code",
   "execution_count": null,
   "metadata": {},
   "outputs": [],
   "source": []
  }
 ],
 "metadata": {
  "kernelspec": {
   "display_name": "ML",
   "language": "python",
   "name": "python3"
  },
  "language_info": {
   "codemirror_mode": {
    "name": "ipython",
    "version": 3
   },
   "file_extension": ".py",
   "mimetype": "text/x-python",
   "name": "python",
   "nbconvert_exporter": "python",
   "pygments_lexer": "ipython3",
   "version": "3.10.4"
  }
 },
 "nbformat": 4,
 "nbformat_minor": 5
}
